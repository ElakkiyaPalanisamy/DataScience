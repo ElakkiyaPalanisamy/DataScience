{
 "cells": [
  {
   "cell_type": "code",
   "execution_count": 1,
   "id": "f52ec31d-00d9-49cb-88a7-3b07d92524f5",
   "metadata": {},
   "outputs": [],
   "source": [
    "import pandas as pd\n",
    "import numpy as np"
   ]
  },
  {
   "cell_type": "code",
   "execution_count": 2,
   "id": "d6d4508a-6720-44fe-93b2-a5daf0c57da1",
   "metadata": {},
   "outputs": [
    {
     "name": "stdout",
     "output_type": "stream",
     "text": [
      "shape :  (40000, 13)\n",
      "Columns :  Index(['age_c', 'assess_c', 'cancer_c', 'compfilm_c', 'density_c', 'famhx_c',\n",
      "       'hrt_c', 'prvmam_c', 'biophx_c', 'mammtype', 'CaTypeO', 'bmi_c',\n",
      "       'ptid'],\n",
      "      dtype='object')\n"
     ]
    }
   ],
   "source": [
    "raw_df = pd.read_csv('../../data/raw/dataset.csv')\n",
    "print('shape : ',raw_df.shape)\n",
    "print('Columns : ',raw_df.columns)"
   ]
  },
  {
   "cell_type": "code",
   "execution_count": 3,
   "id": "9ab32d05-c435-4e1d-9b2e-aa7e347aa2d8",
   "metadata": {},
   "outputs": [
    {
     "data": {
      "text/plain": [
       "(40000, 12)"
      ]
     },
     "execution_count": 3,
     "metadata": {},
     "output_type": "execute_result"
    }
   ],
   "source": [
    "#droping patient id\n",
    "raw_df=raw_df.drop('ptid',axis=1)\n",
    "raw_df.shape"
   ]
  },
  {
   "cell_type": "code",
   "execution_count": 4,
   "id": "99f11443-9421-46bd-838c-c49ea7174e94",
   "metadata": {},
   "outputs": [
    {
     "name": "stdout",
     "output_type": "stream",
     "text": [
      "Uniques values of each col \n",
      "age_c : [62 65 69 64 63 75 66 78 70 67 74 61 71 77 60 73 81 79 72 80 68 83 85 82\n",
      " 84 86 76 87 89 88]\n",
      "assess_c : [1 0 2 3 4 5]\n",
      "cancer_c : [0 1]\n",
      "compfilm_c : [ 1.  0. nan]\n",
      "density_c : [2 4 3 1]\n",
      "famhx_c : [ 0.  1. nan]\n",
      "hrt_c : [ 0. nan  1.]\n",
      "prvmam_c : [ 1.  0. nan]\n",
      "biophx_c : [ 0.  1. nan]\n",
      "mammtype : [1 2]\n",
      "CaTypeO : [8 2 1]\n",
      "bmi_c : [24.0235443        nan 29.0524292 ... 29.8625793 19.6293335 35.680542 ]\n",
      "\n",
      "counts of missing values\n",
      "age_c             0\n",
      "assess_c          0\n",
      "cancer_c          0\n",
      "compfilm_c     4680\n",
      "density_c         0\n",
      "famhx_c         228\n",
      "hrt_c          1772\n",
      "prvmam_c        578\n",
      "biophx_c        815\n",
      "mammtype          0\n",
      "CaTypeO           0\n",
      "bmi_c         23209\n",
      "dtype: int64\n"
     ]
    }
   ],
   "source": [
    "#Replacing splcodes with NaN\n",
    "raw_df.replace({\n",
    "    'compfilm_c': {9:np.nan},\n",
    "    'famhx_c': {9:np.nan},\n",
    "    'hrt_c': {9:np.nan}, \n",
    "    'prvmam_c': {9:np.nan}, \n",
    "    'biophx_c': {9:np.nan},\n",
    "    'bmi_c' : {-99.:np.nan},\n",
    "},inplace = True)\n",
    "\n",
    "print('Uniques values of each col ')\n",
    "for column in raw_df.columns:\n",
    "    unique_values = raw_df[column].unique()\n",
    "    print(f\"{column} : {unique_values}\")\n",
    "\n",
    "print('\\ncounts of missing values')\n",
    "print(raw_df.isna().sum())"
   ]
  },
  {
   "cell_type": "code",
   "execution_count": 5,
   "id": "12ff4db0-c8a3-45ca-99a8-77e06c8ac7c1",
   "metadata": {},
   "outputs": [
    {
     "name": "stdout",
     "output_type": "stream",
     "text": [
      "(40000, 11)\n"
     ]
    }
   ],
   "source": [
    "'''50% of the bmi's are missing....removing the bmi_c ''' \n",
    "raw_df = raw_df.drop('bmi_c', axis =1)\n",
    "print(raw_df.shape)"
   ]
  },
  {
   "cell_type": "code",
   "execution_count": 6,
   "id": "7dd4fc4e-7adc-49f8-8d0d-51466a4d082f",
   "metadata": {},
   "outputs": [
    {
     "name": "stderr",
     "output_type": "stream",
     "text": [
      "/tmp/ipykernel_4147/2422900250.py:11: FutureWarning: Setting an item of incompatible dtype is deprecated and will raise an error in a future version of pandas. Value '69.55585' has dtype incompatible with int64, please explicitly cast to a compatible dtype first.\n",
      "  raw_df.loc[mask, col] = means[col]\n",
      "/tmp/ipykernel_4147/2422900250.py:11: FutureWarning: Setting an item of incompatible dtype is deprecated and will raise an error in a future version of pandas. Value '1.20345' has dtype incompatible with int64, please explicitly cast to a compatible dtype first.\n",
      "  raw_df.loc[mask, col] = means[col]\n",
      "/tmp/ipykernel_4147/2422900250.py:11: FutureWarning: Setting an item of incompatible dtype is deprecated and will raise an error in a future version of pandas. Value '0.006475' has dtype incompatible with int64, please explicitly cast to a compatible dtype first.\n",
      "  raw_df.loc[mask, col] = means[col]\n",
      "/tmp/ipykernel_4147/2422900250.py:11: FutureWarning: Setting an item of incompatible dtype is deprecated and will raise an error in a future version of pandas. Value '2.229725' has dtype incompatible with int64, please explicitly cast to a compatible dtype first.\n",
      "  raw_df.loc[mask, col] = means[col]\n",
      "/tmp/ipykernel_4147/2422900250.py:11: FutureWarning: Setting an item of incompatible dtype is deprecated and will raise an error in a future version of pandas. Value '1.5' has dtype incompatible with int64, please explicitly cast to a compatible dtype first.\n",
      "  raw_df.loc[mask, col] = means[col]\n",
      "/tmp/ipykernel_4147/2422900250.py:11: FutureWarning: Setting an item of incompatible dtype is deprecated and will raise an error in a future version of pandas. Value '7.95975' has dtype incompatible with int64, please explicitly cast to a compatible dtype first.\n",
      "  raw_df.loc[mask, col] = means[col]\n"
     ]
    },
    {
     "name": "stdout",
     "output_type": "stream",
     "text": [
      "Imputed Data:\n",
      "   age_c  assess_c  cancer_c  compfilm_c  density_c  famhx_c  hrt_c  prvmam_c  \\\n",
      "0   62.0       1.0       0.0         1.0        2.0      0.0    0.0       1.0   \n",
      "1   65.0       1.0       0.0         1.0        4.0      0.0    0.0       1.0   \n",
      "2   69.0       0.0       0.0         1.0        2.0      0.0    0.0       1.0   \n",
      "3   64.0       2.0       0.0         1.0        2.0      0.0    0.0       1.0   \n",
      "4   63.0       3.0       0.0         1.0        2.0      0.0    0.0       1.0   \n",
      "\n",
      "   biophx_c  mammtype  CaTypeO  \n",
      "0       0.0       1.0      8.0  \n",
      "1       0.0       1.0      8.0  \n",
      "2       0.0       1.0      8.0  \n",
      "3       0.0       1.0      8.0  \n",
      "4       1.0       1.0      8.0  \n",
      "\n",
      "Final Means:\n",
      "age_c         69.555850\n",
      "assess_c       1.203450\n",
      "cancer_c       0.006475\n",
      "compfilm_c     0.963137\n",
      "density_c      2.229725\n",
      "famhx_c        0.169541\n",
      "hrt_c          0.111149\n",
      "prvmam_c       0.992492\n",
      "biophx_c       0.266735\n",
      "mammtype       1.500000\n",
      "CaTypeO        7.959750\n",
      "dtype: float64\n",
      "\n",
      "Final Variances:\n",
      "age_c         51.882828\n",
      "assess_c       0.331516\n",
      "cancer_c       0.006433\n",
      "compfilm_c     0.031351\n",
      "density_c      0.513164\n",
      "famhx_c        0.139998\n",
      "hrt_c          0.094421\n",
      "prvmam_c       0.007345\n",
      "biophx_c       0.191607\n",
      "mammtype       0.250006\n",
      "CaTypeO        0.249686\n",
      "dtype: float64\n"
     ]
    }
   ],
   "source": [
    "#missing values handling....maximum likelihood estimation\n",
    "\n",
    "# Function to initialize missing values\n",
    "def initialize_missing_values(raw_df):\n",
    "    return raw_df.apply(lambda x: x.fillna(x.mean()), axis=0)\n",
    "\n",
    "# E-step: Expectation of missing values\n",
    "def expectation(raw_df, means, variances):\n",
    "    for col in raw_df.columns:\n",
    "        mask = raw_df[col].isna()\n",
    "        raw_df.loc[mask, col] = means[col]\n",
    "    return raw_df\n",
    "\n",
    "# M-step: Maximization step to update parameters\n",
    "def maximization(raw_df):\n",
    "    means = raw_df.mean()\n",
    "    variances = raw_df.var()\n",
    "    return means, variances\n",
    "\n",
    "# EM algorithm for MLE-based imputation\n",
    "def em_algorithm(raw_df, max_iter=100, tol=1e-6):\n",
    "    df_filled = initialize_missing_values(raw_df.copy())\n",
    "    prev_means, prev_variances = maximization(df_filled)\n",
    "    \n",
    "    for i in range(max_iter):\n",
    "        df_filled = expectation(df_filled, prev_means, prev_variances)\n",
    "        means, variances = maximization(df_filled)\n",
    "        \n",
    "        if np.all(np.abs(prev_means - means) < tol) and np.all(np.abs(prev_variances - variances) < tol):\n",
    "            break\n",
    "        \n",
    "        prev_means, prev_variances = means, variances\n",
    "    \n",
    "    return df_filled, means, variances\n",
    "\n",
    "# Run the EM algorithm\n",
    "imputed_df, final_means, final_variances = em_algorithm(raw_df)\n",
    "\n",
    "print(\"Imputed Data:\")\n",
    "imputed_df.to_csv('../../data/interim/dataset.csv')\n",
    "print(imputed_df.head())\n",
    "print(\"\\nFinal Means:\")\n",
    "print(final_means)\n",
    "print(\"\\nFinal Variances:\")\n",
    "print(final_variances)"
   ]
  },
  {
   "cell_type": "code",
   "execution_count": null,
   "id": "dfecf529-9824-4857-b694-878729ec5b1e",
   "metadata": {},
   "outputs": [],
   "source": []
  }
 ],
 "metadata": {
  "kernelspec": {
   "display_name": "Python 3 (ipykernel)",
   "language": "python",
   "name": "python3"
  },
  "language_info": {
   "codemirror_mode": {
    "name": "ipython",
    "version": 3
   },
   "file_extension": ".py",
   "mimetype": "text/x-python",
   "name": "python",
   "nbconvert_exporter": "python",
   "pygments_lexer": "ipython3",
   "version": "3.12.3"
  }
 },
 "nbformat": 4,
 "nbformat_minor": 5
}
